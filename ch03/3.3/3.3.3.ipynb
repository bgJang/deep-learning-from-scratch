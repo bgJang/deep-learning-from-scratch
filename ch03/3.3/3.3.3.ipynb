# 3. 신경망
# 3.3. 다차원 배열
# 3.3.2. 행렬의 내적(행렬 곱) (p.79)

import numpy as np

A = np.array([1,2], [3,4])
A.shape()